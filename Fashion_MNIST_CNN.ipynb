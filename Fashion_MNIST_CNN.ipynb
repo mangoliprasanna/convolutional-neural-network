{
 "cells": [
  {
   "cell_type": "code",
   "execution_count": 85,
   "metadata": {
    "colab": {},
    "colab_type": "code",
    "collapsed": true,
    "id": "asQwLJpBYzHJ"
   },
   "outputs": [],
   "source": [
    "# importing modules.\n",
    "import torch\n",
    "import torch.nn.functional as F\n",
    "import numpy as np\n",
    "from torch import nn, optim\n",
    "from torchvision import transforms, datasets"
   ]
  },
  {
   "cell_type": "code",
   "execution_count": 86,
   "metadata": {
    "colab": {},
    "colab_type": "code",
    "id": "D2s41OFeYzHN"
   },
   "outputs": [
    {
     "data": {
      "text/plain": [
       "'cpu'"
      ]
     },
     "execution_count": 86,
     "metadata": {},
     "output_type": "execute_result"
    }
   ],
   "source": [
    "# Check if GPU avaliable\n",
    "device = \"cuda\" if torch.cuda.is_available() else \"cpu\"\n",
    "device"
   ]
  },
  {
   "cell_type": "code",
   "execution_count": 87,
   "metadata": {
    "colab": {},
    "colab_type": "code",
    "collapsed": true,
    "id": "fHuobtSXYzHU"
   },
   "outputs": [],
   "source": [
    "# defining transforms for images.\n",
    "transform = transforms.Compose([transforms.ToTensor()])"
   ]
  },
  {
   "cell_type": "code",
   "execution_count": 88,
   "metadata": {
    "colab": {},
    "colab_type": "code",
    "collapsed": true,
    "id": "n4rlKITpYzHY"
   },
   "outputs": [],
   "source": [
    "# Loading data from dataset\n",
    "\n",
    "# Training Data\n",
    "train_data = datasets.FashionMNIST('fashion_data', train=True, download=True, transform=transform)\n",
    "\n",
    "#Testing Data\n",
    "test_data = datasets.FashionMNIST('fashion_data', train=False, download=True, transform=transform)"
   ]
  },
  {
   "cell_type": "code",
   "execution_count": 89,
   "metadata": {
    "colab": {},
    "colab_type": "code",
    "collapsed": true,
    "id": "aKZjoRoDYzHc"
   },
   "outputs": [],
   "source": [
    "# Spliting train data index into train and validation\n",
    "num_train = len(train_data)\n",
    "idxs = list(range(num_train))\n",
    "np.random.shuffle(idxs)\n",
    "\n",
    "# using 20% of train data for validation.\n",
    "split = int(np.floor(0.2 * num_train))\n",
    "train_idx = idxs[split:]\n",
    "valid_idx = idxs[:split]"
   ]
  },
  {
   "cell_type": "code",
   "execution_count": 90,
   "metadata": {
    "colab": {},
    "colab_type": "code",
    "collapsed": true,
    "id": "b4uC25zrYzHi"
   },
   "outputs": [],
   "source": [
    "# samplers to obtain indices for batches.\n",
    "train_sampler = torch.utils.data.SubsetRandomSampler(train_idx)\n",
    "valid_sampler = torch.utils.data.SubsetRandomSampler(valid_idx)"
   ]
  },
  {
   "cell_type": "code",
   "execution_count": 91,
   "metadata": {
    "colab": {},
    "colab_type": "code",
    "collapsed": true,
    "id": "TF6BSW1JYzHo"
   },
   "outputs": [],
   "source": [
    "# defining loader to load data in batches.\n",
    "# defining batch size\n",
    "batch_size = 20\n",
    "\n",
    "# Training loader\n",
    "train_loader = torch.utils.data.DataLoader(train_data, sampler=train_sampler, batch_size=batch_size)\n",
    "\n",
    "# Validation loader\n",
    "valid_loader = torch.utils.data.DataLoader(train_data, sampler=valid_sampler, batch_size=batch_size)\n",
    "\n",
    "# testing loader\n",
    "test_loader = torch.utils.data.DataLoader(test_data, batch_size=batch_size, shuffle=True)\n",
    "\n",
    "classes = ['T-shirt/top',\n",
    "            'Trouser',\n",
    "            'Pullover',\n",
    "            'Dress',\n",
    "            'Coat',\n",
    "            'Sandal',\n",
    "            'Shirt',\n",
    "            'Sneaker',\n",
    "            'Bag',\n",
    "            'Ankle Boot']"
   ]
  },
  {
   "cell_type": "code",
   "execution_count": 92,
   "metadata": {
    "colab": {},
    "colab_type": "code",
    "collapsed": true,
    "id": "oA5FFxmiYzHt"
   },
   "outputs": [],
   "source": [
    "# Now let's see the data we loaded visually.\n",
    "# import matplot library\n",
    "%matplotlib inline\n",
    "import matplotlib.pyplot as plt"
   ]
  },
  {
   "cell_type": "code",
   "execution_count": 93,
   "metadata": {
    "colab": {
     "base_uri": "https://localhost:8080/",
     "height": 283
    },
    "colab_type": "code",
    "id": "YGPKZmdxYzHy",
    "outputId": "08bb1ddd-526e-4dc0-b5bd-fb60b5d04f5b"
   },
   "outputs": [
    {
     "data": {
      "image/png": "[encoded data removed]",
      "text/plain": [
       "<matplotlib.figure.Figure at 0x1a218a8c668>"
      ]
     },
     "metadata": {},
     "output_type": "display_data"
    }
   ],
   "source": [
    "# taking one batch from train_loader \n",
    "images, labels = iter(train_loader).next()\n",
    "\n",
    "# converting images from tensor to numpy array just for visulization. \n",
    "images = images.numpy()\n",
    "\n",
    "# plot the images in the batch, along with the corresponding labels\n",
    "fig = plt.figure(figsize=(25, 4))\n",
    "for i in range(20):\n",
    "    ax = fig.add_subplot(2, 20/2, i + 1, xticks=[], yticks=[])\n",
    "    ax.set_title(classes[labels[i].item()])\n",
    "    ax.imshow(np.squeeze(images[i]), cmap='gray')"
   ]
  },
  {
   "cell_type": "code",
   "execution_count": 94,
   "metadata": {
    "colab": {},
    "colab_type": "code",
    "collapsed": true,
    "id": "ZtzEacEoYzH3"
   },
   "outputs": [],
   "source": [
    "# Defining network architecture.\n",
    "class Network(nn.Module):\n",
    "    \n",
    "    def __init__(self):\n",
    "        \n",
    "        super().__init__()\n",
    "        # convolutional layer (sees 28 x 28 x 1 image tensor)\n",
    "        self.conv1 = nn.Conv2d(1, 16, kernel_size=3, padding=1)\n",
    "        \n",
    "        # convolutional layer (sees 14 x 14 x 16 image tensor)\n",
    "        self.conv2 = nn.Conv2d(16, 32, kernel_size=3, padding=1)\n",
    "        \n",
    "        # Hidden layer: 32 * 7 * 7 => 128.\n",
    "        self.fc1 = nn.Linear(32 * 7 * 7, 128)\n",
    "        \n",
    "        # Hidden layer 1: 128 => 128.\n",
    "        self.fc2 = nn.Linear(128, 128)\n",
    "        \n",
    "        # Hidden Layer 2: 128 => 10.\n",
    "        self.fc3 = nn.Linear(128, 10)\n",
    "        \n",
    "        # Defining dropout with p = 0.2\n",
    "        self.dropout = nn.Dropout(p=0.2)\n",
    "        \n",
    "        # max pooling layer\n",
    "        self.pool = nn.MaxPool2d(2, 2)\n",
    "        \n",
    "    def forward(self, X):\n",
    "        # Convolutional Layer and  max pooling layers.\n",
    "        X = self.pool(F.relu(self.conv1(X)))\n",
    "        X = self.pool(F.relu(self.conv2(X)))\n",
    "        \n",
    "        # Flatten inputs.\n",
    "        X = X.view(-1, 32 * 7 * 7)\n",
    "        \n",
    "        # Input Layer.\n",
    "        X = self.dropout(F.relu(self.fc1(X)))\n",
    "        \n",
    "        # Hidden Layer 1\n",
    "        X = self.dropout(F.relu(self.fc2(X)))\n",
    "        \n",
    "        # Hidden Layer 2\n",
    "        X = self.fc3(X)\n",
    "        \n",
    "        return X\n",
    "        \n",
    "        "
   ]
  },
  {
   "cell_type": "code",
   "execution_count": 95,
   "metadata": {
    "colab": {
     "base_uri": "https://localhost:8080/",
     "height": 168
    },
    "colab_type": "code",
    "id": "MWMqDxeZYzH7",
    "outputId": "f8fd4edd-85d3-4ed5-ad80-f6e7c3e40c7c"
   },
   "outputs": [
    {
     "data": {
      "text/plain": [
       "Network(\n",
       "  (conv1): Conv2d(1, 16, kernel_size=(3, 3), stride=(1, 1), padding=(1, 1))\n",
       "  (conv2): Conv2d(16, 32, kernel_size=(3, 3), stride=(1, 1), padding=(1, 1))\n",
       "  (fc1): Linear(in_features=1568, out_features=128, bias=True)\n",
       "  (fc2): Linear(in_features=128, out_features=128, bias=True)\n",
       "  (fc3): Linear(in_features=128, out_features=10, bias=True)\n",
       "  (dropout): Dropout(p=0.2)\n",
       "  (pool): MaxPool2d(kernel_size=2, stride=2, padding=0, dilation=1, ceil_mode=False)\n",
       ")"
      ]
     },
     "execution_count": 95,
     "metadata": {},
     "output_type": "execute_result"
    }
   ],
   "source": [
    "model = Network()\n",
    "model"
   ]
  },
  {
   "cell_type": "code",
   "execution_count": 0,
   "metadata": {
    "colab": {},
    "colab_type": "code",
    "collapsed": true,
    "id": "f38UJ-ziYzH_"
   },
   "outputs": [],
   "source": [
    "criterion = nn.CrossEntropyLoss()\n",
    "\n",
    "optimizer = optim.Adam(model.parameters(), lr=0.01)"
   ]
  },
  {
   "cell_type": "code",
   "execution_count": 0,
   "metadata": {
    "colab": {},
    "colab_type": "code",
    "collapsed": true,
    "id": "feOeP_TyYzID"
   },
   "outputs": [],
   "source": [
    "model = model.to(device)"
   ]
  },
  {
   "cell_type": "code",
   "execution_count": 14,
   "metadata": {
    "colab": {
     "base_uri": "https://localhost:8080/",
     "height": 605
    },
    "colab_type": "code",
    "id": "La290-LJYzIJ",
    "outputId": "e2b201f1-94d1-495a-93ac-ccb27f1075a6"
   },
   "outputs": [
    {
     "name": "stdout",
     "output_type": "stream",
     "text": [
      "Training loss: 0.4901276991590858 \tValidation loss: 0.08550871389607588 \tEpoch: 1\n",
      "Saving model.\n",
      "Training loss: 0.40406545642018316 \tValidation loss: 0.08231891923770308 \tEpoch: 2\n",
      "Saving model.\n",
      "Training loss: 0.38867940520060557 \tValidation loss: 0.08062218564500412 \tEpoch: 3\n",
      "Saving model.\n",
      "Training loss: 0.391960832203428 \tValidation loss: 0.08090992246816556 \tEpoch: 4\n",
      "Training loss: 0.3867010677618285 \tValidation loss: 0.07825635095934073 \tEpoch: 5\n",
      "Saving model.\n",
      "Training loss: 0.38609421854776643 \tValidation loss: 0.087129010848701 \tEpoch: 6\n",
      "Training loss: 0.387888694545875 \tValidation loss: 0.07992119517984489 \tEpoch: 7\n",
      "Training loss: 0.379765573511521 \tValidation loss: 0.09091916197662553 \tEpoch: 8\n",
      "Training loss: 0.38425163124874234 \tValidation loss: 0.07888553826759259 \tEpoch: 9\n",
      "Training loss: 0.38939030763693155 \tValidation loss: 0.07838208731636405 \tEpoch: 10\n",
      "Training loss: 0.3820509851239622 \tValidation loss: 0.07864139056702454 \tEpoch: 11\n",
      "Training loss: 0.38218340813368556 \tValidation loss: 0.08240381677448749 \tEpoch: 12\n",
      "Training loss: 0.3989301442444945 \tValidation loss: 0.09208782317039246 \tEpoch: 13\n",
      "Training loss: 0.378722025513649 \tValidation loss: 0.08519446996599436 \tEpoch: 14\n",
      "Training loss: 0.3942328306833903 \tValidation loss: 0.08699713092048963 \tEpoch: 15\n",
      "Training loss: 0.38581201203291615 \tValidation loss: 0.0779135231077671 \tEpoch: 16\n",
      "Saving model.\n",
      "Training loss: 0.3875683092102408 \tValidation loss: 0.10171025954435269 \tEpoch: 17\n",
      "Training loss: 0.389841535186395 \tValidation loss: 0.08873562421401342 \tEpoch: 18\n",
      "Training loss: 0.41461579194758086 \tValidation loss: 0.09163501628612479 \tEpoch: 19\n",
      "Training loss: 0.3943721552155912 \tValidation loss: 0.09325152259816726 \tEpoch: 20\n",
      "Training loss: 0.4020096576176584 \tValidation loss: 0.08321432620783648 \tEpoch: 21\n",
      "Training loss: 0.3989087239485234 \tValidation loss: 0.08556006610393524 \tEpoch: 22\n",
      "Training loss: 0.4198351156115532 \tValidation loss: 0.09411745458841324 \tEpoch: 23\n",
      "Training loss: 0.40423442210505406 \tValidation loss: 0.08300749794890483 \tEpoch: 24\n",
      "Training loss: 0.4046433877007415 \tValidation loss: 0.09791827943921089 \tEpoch: 25\n",
      "Training loss: 0.3938475733809173 \tValidation loss: 0.10120268871883552 \tEpoch: 26\n",
      "Training loss: 0.40443110240250824 \tValidation loss: 0.09241470268244545 \tEpoch: 27\n",
      "Training loss: 0.3931094541673859 \tValidation loss: 0.08733575107653936 \tEpoch: 28\n",
      "Training loss: 0.40695228386173643 \tValidation loss: 0.0945062194565932 \tEpoch: 29\n",
      "Training loss: 0.3909475230934719 \tValidation loss: 0.08746429806823532 \tEpoch: 30\n"
     ]
    }
   ],
   "source": [
    "# training model\n",
    "# Epochs for training.\n",
    "epochs = 30\n",
    "\n",
    "# defining min_valid loss to np.inf\n",
    "valid_min = np.inf\n",
    "\n",
    "for i in range(epochs):\n",
    "    \n",
    "    # set model for training.\n",
    "    model.train()\n",
    "    \n",
    "    # defining train loss and validation loss to 0.0 later we calculate using loss function.\n",
    "    train_loss = 0.0\n",
    "    valid_loss = 0.0\n",
    "    \n",
    "    for images, labels in train_loader:\n",
    "        \n",
    "        images, labels = images.to(device), labels.to(device)\n",
    "        \n",
    "        # cleaning gradient for all optimized variables.\n",
    "        optimizer.zero_grad()\n",
    "        \n",
    "        # forwardpass passing images to model\n",
    "        output = model(images)\n",
    "        \n",
    "        # Calculating loss to perform backward pass\n",
    "        loss = criterion(output, labels)\n",
    "        \n",
    "        # backward pass compute loss with resp to parameters.\n",
    "        loss.backward()\n",
    "        \n",
    "        # optimizer single step.\n",
    "        optimizer.step()\n",
    "        \n",
    "        # updating total loss\n",
    "        train_loss += loss.item() * images.size(0)\n",
    "        \n",
    "    # set model for evalutaion.\n",
    "    model.eval()\n",
    "    \n",
    "    # validating model.\n",
    "    for images, labels in valid_loader:\n",
    "        \n",
    "        images, labels = images.to(device), labels.to(device)\n",
    "        \n",
    "        # forwardpass passing images to model\n",
    "        output = model(images)\n",
    "        \n",
    "        # Calculating loss to perform backward pass\n",
    "        loss = criterion(output, labels)\n",
    "        \n",
    "        # Updating total validation loss.\n",
    "        valid_loss += loss.item() * images.size(0)\n",
    "        \n",
    "    train_loss = train_loss / len(train_loader.dataset)\n",
    "    valid_loss = valid_loss / len(valid_loader.dataset)\n",
    "    \n",
    "    print(\"Training loss:\", train_loss, \"\\tValidation loss:\", valid_loss, \"\\tEpoch:\", str(i+1))\n",
    "    \n",
    "    if valid_loss <= valid_min:\n",
    "        print(\"Saving model.\")\n",
    "        torch.save(model.state_dict(), 'model_cnn_fashion.pth')\n",
    "        valid_min = valid_loss"
   ]
  },
  {
   "cell_type": "code",
   "execution_count": 100,
   "metadata": {
    "colab": {},
    "colab_type": "code",
    "id": "D9I8COh4g2pn"
   },
   "outputs": [
    {
     "data": {
      "text/plain": [
       "Network(\n",
       "  (conv1): Conv2d(1, 16, kernel_size=(3, 3), stride=(1, 1), padding=(1, 1))\n",
       "  (conv2): Conv2d(16, 32, kernel_size=(3, 3), stride=(1, 1), padding=(1, 1))\n",
       "  (fc1): Linear(in_features=1568, out_features=128, bias=True)\n",
       "  (fc2): Linear(in_features=128, out_features=128, bias=True)\n",
       "  (fc3): Linear(in_features=128, out_features=10, bias=True)\n",
       "  (dropout): Dropout(p=0.2)\n",
       "  (pool): MaxPool2d(kernel_size=2, stride=2, padding=0, dilation=1, ceil_mode=False)\n",
       ")"
      ]
     },
     "execution_count": 100,
     "metadata": {},
     "output_type": "execute_result"
    }
   ],
   "source": [
    "model.load_state_dict(torch.load('model_cnn_fashion.pth', map_location=device))\n",
    "model"
   ]
  },
  {
   "cell_type": "code",
   "execution_count": 101,
   "metadata": {
    "colab": {
     "base_uri": "https://localhost:8080/",
     "height": 252
    },
    "colab_type": "code",
    "id": "gvlL5bQTYzIQ",
    "outputId": "d50ad915-d473-4d1a-f0bd-d4997557cac2"
   },
   "outputs": [
    {
     "name": "stdout",
     "output_type": "stream",
     "text": [
      "Test Loss: -0.003471\n",
      "\n",
      "Test Accuracy of T-shirt/top: \t 83% (833/1000)\n",
      "Test Accuracy of Trouser: \t 95% (957/1000)\n",
      "Test Accuracy of Pullover: \t 83% (833/1000)\n",
      "Test Accuracy of Dress: \t 93% (938/1000)\n",
      "Test Accuracy of  Coat: \t 65% (657/1000)\n",
      "Test Accuracy of Sandal: \t 95% (951/1000)\n",
      "Test Accuracy of Shirt: \t 50% (509/1000)\n",
      "Test Accuracy of Sneaker: \t 96% (967/1000)\n",
      "Test Accuracy of   Bag: \t 95% (954/1000)\n",
      "Test Accuracy of Ankle Boot: \t 94% (945/1000)\n",
      "\n",
      "Test Accuracy (Overall): 85% (8544/10000)\n"
     ]
    }
   ],
   "source": [
    "# Testing Model.\n",
    "# Initilizing list to moniter test and accuracy.\n",
    "test_loss = 0.0\n",
    "class_correct = list(0. for i in range(10))\n",
    "class_total = list(0. for i in range(10))\n",
    "\n",
    "# prepate mode for evalution.\n",
    "model.eval()\n",
    "\n",
    "for images, labels in test_loader:\n",
    "    \n",
    "    images, labels = images.to(device), labels.to(device)\n",
    "    \n",
    "    # forwardpass passing images to model\n",
    "    output = model(images)\n",
    "    \n",
    "    # calculate the loss\n",
    "    loss = criterion(output, labels)\n",
    "    \n",
    "    # update test loss \n",
    "    test_loss += loss.item() * images.size(0)\n",
    "    \n",
    "    # convert output probabilities to predicted class\n",
    "    _, pred = torch.max(output, 1)\n",
    "    \n",
    "    # compare predictions to true label\n",
    "    correct = np.squeeze(pred.eq(labels.data.view_as(pred)))\n",
    "    \n",
    "     # calculate test accuracy for each object class\n",
    "    for i in range(batch_size):\n",
    "        \n",
    "        label = labels.data[i]\n",
    "        \n",
    "        class_correct[label] += correct[i].item()\n",
    "        \n",
    "        class_total[label] += 1\n",
    "        \n",
    "# calculate and print avg test loss\n",
    "test_loss = test_loss/len(test_loader.dataset)\n",
    "print('Test Loss: {:.6f}\\n'.format(test_loss))\n",
    "\n",
    "for i in range(10):\n",
    "    if class_total[i] > 0:\n",
    "        print('Test Accuracy of %5s: \\t %2d%% (%2d/%2d)' % (\n",
    "            str(classes[i]), 100 * class_correct[i]/ class_total[i],\n",
    "            np.sum(class_correct[i]), np.sum(class_total[i])))\n",
    "    else:\n",
    "        print('Test Accuracy of %5s: N/A (no training examples)' % (classes[i]))\n",
    "\n",
    "print('\\nTest Accuracy (Overall): %2d%% (%2d/%2d)' % (\n",
    "    100. * np.sum(class_correct) / np.sum(class_total),\n",
    "    np.sum(class_correct), np.sum(class_total)))"
   ]
  },
  {
   "cell_type": "code",
   "execution_count": 102,
   "metadata": {
    "colab": {},
    "colab_type": "code",
    "collapsed": true,
    "id": "yJh8Abt7YzIT"
   },
   "outputs": [],
   "source": [
    "# Visualize data with test result.\n",
    "# obtain one batch of test images\n",
    "dataiter = iter(test_loader)"
   ]
  },
  {
   "cell_type": "code",
   "execution_count": 103,
   "metadata": {
    "colab": {
     "base_uri": "https://localhost:8080/",
     "height": 283
    },
    "colab_type": "code",
    "id": "or0gsHx_YzIW",
    "outputId": "eff1ace1-130d-45f5-e265-fd51bb8d38ef"
   },
   "outputs": [
    {
     "data": {
      "image/png": "[encoded data removed]",
      "text/plain": [
       "<matplotlib.figure.Figure at 0x1a2188670f0>"
      ]
     },
     "metadata": {},
     "output_type": "display_data"
    }
   ],
   "source": [
    "images, labels = dataiter.next()\n",
    "\n",
    "images = images.to(device)\n",
    "\n",
    "labels = labels.to(device)\n",
    "\n",
    "# get sample outputs\n",
    "output = model(images)\n",
    "\n",
    "# convert output probabilities to predicted class\n",
    "_, preds = torch.max(output, 1)\n",
    "\n",
    "# prep images for display\n",
    "images = images.cpu().numpy()\n",
    "\n",
    "# plot the images in the batch, along with predicted and true labels\n",
    "fig = plt.figure(figsize=(25, 4))\n",
    "\n",
    "for idx in np.arange(20):\n",
    "    \n",
    "    ax = fig.add_subplot(2, 20/2, idx+1, xticks=[], yticks=[])\n",
    "    \n",
    "    ax.imshow(np.squeeze(images[idx]), cmap='gray')\n",
    "    \n",
    "    ax.set_title(\"{} ({})\".format(str(classes[preds[idx].item()]), str(classes[labels[idx].item()])),\n",
    "                 color=(\"green\" if preds[idx]==labels[idx] else \"red\"))"
   ]
  }
 ],
 "metadata": {
  "accelerator": "GPU",
  "colab": {
   "name": "Fashion_MNIST_CNN.ipynb",
   "provenance": [],
   "version": "0.3.2"
  },
  "kernelspec": {
   "display_name": "Python 3",
   "language": "python",
   "name": "python3"
  },
  "language_info": {
   "codemirror_mode": {
    "name": "ipython",
    "version": 3
   },
   "file_extension": ".py",
   "mimetype": "text/x-python",
   "name": "python",
   "nbconvert_exporter": "python",
   "pygments_lexer": "ipython3",
   "version": "3.6.1"
  }
 },
 "nbformat": 4,
 "nbformat_minor": 1
}
